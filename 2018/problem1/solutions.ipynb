{
 "cells": [
  {
   "cell_type": "markdown",
   "metadata": {},
   "source": [
    "## Data Set Information"
   ]
  },
  {
   "cell_type": "markdown",
   "metadata": {},
   "source": [
    "### Overview"
   ]
  },
  {
   "attachments": {},
   "cell_type": "markdown",
   "metadata": {},
   "source": [
    "- **1556** rows mutivariates.\n",
    "\n",
    "- $y = \\,\\text{not_paid}$\n",
    "\n",
    "- $y \\in \\{0,1\\}$\n",
    "\n",
    "- Direct correlations: $x \\rightarrow y\\,|\\,x=\\text{purpose}$. Ex: $\\text{Grace Period}=True\\,|\\,x=\\text{credit_card}\\,,\\,y=1$"
   ]
  },
  {
   "cell_type": "markdown",
   "metadata": {},
   "source": [
    "### Columns"
   ]
  },
  {
   "cell_type": "markdown",
   "metadata": {},
   "source": [
    "1. ` `: It is unamed column which indicate actual line numbers from original dataset."
   ]
  },
  {
   "cell_type": "markdown",
   "metadata": {},
   "source": [
    "2. `initial_list_status`: Loan status, *w* (whole) and *f* (factional).\n",
    "\n",
    "    - *Whole loans*: Loans owned by multiple tenants. Onw possible flow is bank loans to third party lender, then bank immediately received their money back with intereset, then lender develop custom loans for broad range group of loaners with fixed interest. Ex: Home Ownership Loan, Auto Loans, etc.\n",
    "    \n",
    "    - *Fractional loans*: Similar to Whole loans, but goods owned by loaner treated as sharable goods. It's means loaner could breaking their goods into smaller goods, then shared them to another loaner. Ex: Hotel Renting, Vacations, etc.\n",
    "\n",
    "In other word, *fractional loans* is alternative to *whole loans*. *Whole loans* is group financing, but *fractional loans* reduced the risk by implementing shared goods with higher interest. Read [this](https://www.stimmel-law.com/en/articles/tics-and-fractional-loans-easier-and-easier-own-tics) and [this](https://www.mortgageloan.com/fractional-mortgages-1400) for more information."
   ]
  },
  {
   "cell_type": "markdown",
   "metadata": {},
   "source": [
    "3. `purpose`: The purpose of loans. There are 5 categories: *credit_card*, *debt_consolidation*, *home_improvement*, *major_purchase*, and *small_business*."
   ]
  },
  {
   "cell_type": "markdown",
   "metadata": {},
   "source": [
    "4. `int_rate`: Interest rate in percentage."
   ]
  },
  {
   "cell_type": "markdown",
   "metadata": {},
   "source": [
    "5. `installment`: Monthly payment."
   ]
  },
  {
   "cell_type": "markdown",
   "metadata": {},
   "source": [
    "6. `annual_inc`: Annual loaner's income."
   ]
  },
  {
   "cell_type": "markdown",
   "metadata": {},
   "source": [
    "7. `dti`: *Date to Income* ratio. Read [this](https://www.wellsfargo.com/goals-credit/smarter-credit/credit-101/debt-to-income-ratio/) for further decription. Lower the dti, lower the loaner risk to lender. Please read [this](https://www.wellsfargo.com/goals-credit/smarter-credit/credit-101/debt-to-income-ratio/) for further explanation."
   ]
  },
  {
   "cell_type": "markdown",
   "metadata": {},
   "source": [
    "8. `verification_status`: Status of loaner's income verification. There are 3 categories: *verified*, *not_verified*, and *source verified*."
   ]
  },
  {
   "cell_type": "markdown",
   "metadata": {},
   "source": [
    "9. `grade`: Bank system defined grade of loan."
   ]
  },
  {
   "cell_type": "markdown",
   "metadata": {},
   "source": [
    "10. `revol_bal`: Total credit in *revolving balance* or unpaid credits."
   ]
  },
  {
   "cell_type": "markdown",
   "metadata": {},
   "source": [
    "11. `inq_last_12m`: Total credit/loans at lasth 12th month."
   ]
  },
  {
   "cell_type": "markdown",
   "metadata": {},
   "source": [
    "12. `delinq_2yrs`: Total delayed credit payments within last 2 years for loaners who take credits in 30+ months."
   ]
  },
  {
   "cell_type": "markdown",
   "metadata": {},
   "source": [
    "13. `home_ownership`: Home ownership category. There are 3 categories: *MORTGAGE*, *OWN*, and *RENT*."
   ]
  },
  {
   "cell_type": "markdown",
   "metadata": {},
   "source": [
    "14. `log_inc`: $log(\\text{annual_inc})$"
   ]
  },
  {
   "cell_type": "markdown",
   "metadata": {},
   "source": [
    "15. `verified`: Verified is True (1) or False (0)."
   ]
  },
  {
   "cell_type": "markdown",
   "metadata": {},
   "source": [
    "16. `grdCtoA`: Grade of credit, such as:\n",
    "\n",
    "    $$\\text{grdCtoA} = \\begin{cases}\n",
    "        1 & \\text{if}\\,\\in\\{A,B,C\\}\\\\\n",
    "        0 & \\text{if}\\,\\notin\\{A,B,C\\}\n",
    "    \\end{cases}$$"
   ]
  },
  {
   "cell_type": "markdown",
   "metadata": {},
   "source": [
    "## Data Analysis"
   ]
  },
  {
   "cell_type": "code",
   "execution_count": 3,
   "metadata": {},
   "outputs": [],
   "source": [
    "import math\n",
    "import pandas as pd\n",
    "import numpy as np\n",
    "import matplotlib.pyplot as plt\n",
    "import math"
   ]
  },
  {
   "cell_type": "code",
   "execution_count": 4,
   "metadata": {},
   "outputs": [
    {
     "name": "stdout",
     "output_type": "stream",
     "text": [
      "current directory /home/bladefidz/Codes/finhacks/2018/problem1\n"
     ]
    }
   ],
   "source": [
    "import os\n",
    "print('current directory', os.getcwd())"
   ]
  },
  {
   "cell_type": "code",
   "execution_count": 4,
   "metadata": {},
   "outputs": [
    {
     "data": {
      "text/html": [
       "<div>\n",
       "<style scoped>\n",
       "    .dataframe tbody tr th:only-of-type {\n",
       "        vertical-align: middle;\n",
       "    }\n",
       "\n",
       "    .dataframe tbody tr th {\n",
       "        vertical-align: top;\n",
       "    }\n",
       "\n",
       "    .dataframe thead th {\n",
       "        text-align: right;\n",
       "    }\n",
       "</style>\n",
       "<table border=\"1\" class=\"dataframe\">\n",
       "  <thead>\n",
       "    <tr style=\"text-align: right;\">\n",
       "      <th></th>\n",
       "      <th>Unnamed: 0</th>\n",
       "      <th>initial_list_status</th>\n",
       "      <th>purpose</th>\n",
       "      <th>int_rate</th>\n",
       "      <th>installment</th>\n",
       "      <th>annual_inc</th>\n",
       "      <th>dti</th>\n",
       "      <th>verification_status</th>\n",
       "      <th>grade</th>\n",
       "      <th>revol_bal</th>\n",
       "      <th>inq_last_12m</th>\n",
       "      <th>delinq_2yrs</th>\n",
       "      <th>home_ownership</th>\n",
       "      <th>not_paid</th>\n",
       "      <th>log_inc</th>\n",
       "      <th>verified</th>\n",
       "      <th>grdCtoA</th>\n",
       "    </tr>\n",
       "  </thead>\n",
       "  <tbody>\n",
       "    <tr>\n",
       "      <th>0</th>\n",
       "      <td>1495</td>\n",
       "      <td>w</td>\n",
       "      <td>debt_consolidation</td>\n",
       "      <td>21.45</td>\n",
       "      <td>955.75</td>\n",
       "      <td>90000.0</td>\n",
       "      <td>20.91</td>\n",
       "      <td>Verified</td>\n",
       "      <td>D</td>\n",
       "      <td>23448</td>\n",
       "      <td>4</td>\n",
       "      <td>0</td>\n",
       "      <td>MORTGAGE</td>\n",
       "      <td>1</td>\n",
       "      <td>11.407565</td>\n",
       "      <td>1</td>\n",
       "      <td>0</td>\n",
       "    </tr>\n",
       "    <tr>\n",
       "      <th>1</th>\n",
       "      <td>266</td>\n",
       "      <td>w</td>\n",
       "      <td>debt_consolidation</td>\n",
       "      <td>18.06</td>\n",
       "      <td>289.47</td>\n",
       "      <td>65000.0</td>\n",
       "      <td>12.74</td>\n",
       "      <td>Source Verified</td>\n",
       "      <td>D</td>\n",
       "      <td>13362</td>\n",
       "      <td>2</td>\n",
       "      <td>0</td>\n",
       "      <td>MORTGAGE</td>\n",
       "      <td>1</td>\n",
       "      <td>11.082143</td>\n",
       "      <td>1</td>\n",
       "      <td>0</td>\n",
       "    </tr>\n",
       "    <tr>\n",
       "      <th>2</th>\n",
       "      <td>309</td>\n",
       "      <td>w</td>\n",
       "      <td>home_improvement</td>\n",
       "      <td>9.44</td>\n",
       "      <td>838.91</td>\n",
       "      <td>97400.0</td>\n",
       "      <td>12.64</td>\n",
       "      <td>Source Verified</td>\n",
       "      <td>B</td>\n",
       "      <td>2372</td>\n",
       "      <td>1</td>\n",
       "      <td>0</td>\n",
       "      <td>MORTGAGE</td>\n",
       "      <td>1</td>\n",
       "      <td>11.486581</td>\n",
       "      <td>1</td>\n",
       "      <td>1</td>\n",
       "    </tr>\n",
       "    <tr>\n",
       "      <th>3</th>\n",
       "      <td>239</td>\n",
       "      <td>w</td>\n",
       "      <td>home_improvement</td>\n",
       "      <td>10.42</td>\n",
       "      <td>214.55</td>\n",
       "      <td>60000.0</td>\n",
       "      <td>2.38</td>\n",
       "      <td>Not Verified</td>\n",
       "      <td>B</td>\n",
       "      <td>4705</td>\n",
       "      <td>2</td>\n",
       "      <td>0</td>\n",
       "      <td>OWN</td>\n",
       "      <td>0</td>\n",
       "      <td>11.002100</td>\n",
       "      <td>0</td>\n",
       "      <td>1</td>\n",
       "    </tr>\n",
       "    <tr>\n",
       "      <th>4</th>\n",
       "      <td>136</td>\n",
       "      <td>f</td>\n",
       "      <td>debt_consolidation</td>\n",
       "      <td>11.99</td>\n",
       "      <td>1024.52</td>\n",
       "      <td>150000.0</td>\n",
       "      <td>20.84</td>\n",
       "      <td>Not Verified</td>\n",
       "      <td>B</td>\n",
       "      <td>14342</td>\n",
       "      <td>0</td>\n",
       "      <td>0</td>\n",
       "      <td>MORTGAGE</td>\n",
       "      <td>0</td>\n",
       "      <td>11.918391</td>\n",
       "      <td>0</td>\n",
       "      <td>1</td>\n",
       "    </tr>\n",
       "  </tbody>\n",
       "</table>\n",
       "</div>"
      ],
      "text/plain": [
       "   Unnamed: 0 initial_list_status             purpose  int_rate  installment  \\\n",
       "0        1495                   w  debt_consolidation     21.45       955.75   \n",
       "1         266                   w  debt_consolidation     18.06       289.47   \n",
       "2         309                   w    home_improvement      9.44       838.91   \n",
       "3         239                   w    home_improvement     10.42       214.55   \n",
       "4         136                   f  debt_consolidation     11.99      1024.52   \n",
       "\n",
       "   annual_inc    dti verification_status grade  revol_bal  inq_last_12m  \\\n",
       "0     90000.0  20.91            Verified     D      23448             4   \n",
       "1     65000.0  12.74     Source Verified     D      13362             2   \n",
       "2     97400.0  12.64     Source Verified     B       2372             1   \n",
       "3     60000.0   2.38        Not Verified     B       4705             2   \n",
       "4    150000.0  20.84        Not Verified     B      14342             0   \n",
       "\n",
       "   delinq_2yrs home_ownership  not_paid    log_inc  verified  grdCtoA  \n",
       "0            0       MORTGAGE         1  11.407565         1        0  \n",
       "1            0       MORTGAGE         1  11.082143         1        0  \n",
       "2            0       MORTGAGE         1  11.486581         1        1  \n",
       "3            0            OWN         0  11.002100         0        1  \n",
       "4            0       MORTGAGE         0  11.918391         0        1  "
      ]
     },
     "execution_count": 4,
     "metadata": {},
     "output_type": "execute_result"
    }
   ],
   "source": [
    "dataTrain = pd.read_csv('dataset1/train1.csv')\n",
    "dataTrain.head()"
   ]
  },
  {
   "cell_type": "code",
   "execution_count": 7,
   "metadata": {},
   "outputs": [
    {
     "name": "stdout",
     "output_type": "stream",
     "text": [
      "Training data row count 1244\n",
      "Ratio to original row count 0.7994858611825193\n"
     ]
    }
   ],
   "source": [
    "print(\"Training data row count\", len(dataTrain))\n",
    "print(\"Ratio to original row count\", len(dataTrain)/1556)"
   ]
  },
  {
   "cell_type": "code",
   "execution_count": 24,
   "metadata": {},
   "outputs": [
    {
     "name": "stdout",
     "output_type": "stream",
     "text": [
      "Not paid loans count 627\n"
     ]
    }
   ],
   "source": [
    "notPaidLoans = dataTrain[dataTrain['not_paid']==1]\n",
    "notPaidLoans.pop('not_paid')\n",
    "print(\"Not paid loans count\", len(notPaidLoans))"
   ]
  },
  {
   "cell_type": "code",
   "execution_count": 25,
   "metadata": {},
   "outputs": [
    {
     "name": "stdout",
     "output_type": "stream",
     "text": [
      "Paid loans count 617\n"
     ]
    }
   ],
   "source": [
    "paidLoans = dataTrain[dataTrain['not_paid']==0]\n",
    "paidLoans.pop('not_paid')\n",
    "print(\"Paid loans count\", len(paidLoans))"
   ]
  },
  {
   "cell_type": "code",
   "execution_count": 28,
   "metadata": {},
   "outputs": [
    {
     "name": "stdout",
     "output_type": "stream",
     "text": [
      "Dataset class balance ratio 0.9840510366826156\n"
     ]
    }
   ],
   "source": [
    "print(\"Dataset class balance ratio\", len(paidLoans)/len(notPaidLoans))"
   ]
  },
  {
   "cell_type": "code",
   "execution_count": 93,
   "metadata": {},
   "outputs": [
    {
     "data": {
      "text/plain": [
       "<matplotlib.axes._subplots.AxesSubplot at 0x7f54d66bc7f0>"
      ]
     },
     "execution_count": 93,
     "metadata": {},
     "output_type": "execute_result"
    },
    {
     "data": {
      "image/png": "[encoded data removed]",
      "text/plain": [
       "<Figure size 432x288 with 1 Axes>"
      ]
     },
     "metadata": {},
     "output_type": "display_data"
    }
   ],
   "source": [
    "dataTrain['initial_list_status'].value_counts().sort_values().plot(\n",
    "    x='category', y='frequency', kind='barh', title='Loans type')"
   ]
  },
  {
   "cell_type": "code",
   "execution_count": 92,
   "metadata": {},
   "outputs": [
    {
     "data": {
      "text/plain": [
       "<matplotlib.axes._subplots.AxesSubplot at 0x7f54d675e6d8>"
      ]
     },
     "execution_count": 92,
     "metadata": {},
     "output_type": "execute_result"
    },
    {
     "data": {
      "image/png": "[encoded data removed]",
      "text/plain": [
       "<Figure size 1152x720 with 1 Axes>"
      ]
     },
     "metadata": {},
     "output_type": "display_data"
    }
   ],
   "source": [
    "dataTrain['purpose'].value_counts().sort_values().plot(\n",
    "    x='category', y='frequency', kind='barh', title='Purpose of loans', figsize=(16,10))"
   ]
  },
  {
   "cell_type": "code",
   "execution_count": 90,
   "metadata": {},
   "outputs": [
    {
     "data": {
      "text/plain": [
       "<matplotlib.axes._subplots.AxesSubplot at 0x7f54d67f93c8>"
      ]
     },
     "execution_count": 90,
     "metadata": {},
     "output_type": "execute_result"
    },
    {
     "data": {
      "image/png": "[encoded data removed]",
      "text/plain": [
       "<Figure size 1152x720 with 1 Axes>"
      ]
     },
     "metadata": {},
     "output_type": "display_data"
    }
   ],
   "source": [
    "dataTrain.groupby(['initial_list_status', 'purpose']).size().sort_values().plot.barh(\n",
    "        title=\"Group of loans type and purpose\",\n",
    "        figsize=(16,10))"
   ]
  },
  {
   "cell_type": "code",
   "execution_count": 137,
   "metadata": {},
   "outputs": [
    {
     "name": "stdout",
     "output_type": "stream",
     "text": [
      "[  0.      28.9625  57.925   86.8875 115.85  ]\n"
     ]
    }
   ],
   "source": [
    "dtiClass = np.linspace(0, dataTrain['dti'].max(), 5)\n",
    "print(dtiClass)"
   ]
  },
  {
   "cell_type": "code",
   "execution_count": 143,
   "metadata": {},
   "outputs": [
    {
     "data": {
      "text/plain": [
       "0    (0.0, 28.962]\n",
       "1    (0.0, 28.962]\n",
       "2    (0.0, 28.962]\n",
       "3    (0.0, 28.962]\n",
       "4    (0.0, 28.962]\n",
       "Name: dti_class, dtype: category\n",
       "Categories (4, interval[float64]): [(0.0, 28.962] < (28.962, 57.925] < (57.925, 86.887] < (86.887, 115.85]]"
      ]
     },
     "execution_count": 143,
     "metadata": {},
     "output_type": "execute_result"
    }
   ],
   "source": [
    "dataTrain['dti_class'] = pd.cut(dataTrain['dti'], dtiClass)\n",
    "dataTrain['dti_class'].head()"
   ]
  },
  {
   "cell_type": "code",
   "execution_count": 144,
   "metadata": {},
   "outputs": [
    {
     "data": {
      "text/plain": [
       "<matplotlib.axes._subplots.AxesSubplot at 0x7f54d5d05d30>"
      ]
     },
     "execution_count": 144,
     "metadata": {},
     "output_type": "execute_result"
    },
    {
     "data": {
      "image/png": "[encoded data removed]",
      "text/plain": [
       "<Figure size 1152x720 with 1 Axes>"
      ]
     },
     "metadata": {},
     "output_type": "display_data"
    }
   ],
   "source": [
    "dataTrain.groupby(\n",
    "    ['dti_class', 'not_paid']\n",
    "    )['dti_class'].size().unstack(\n",
    "        'not_paid'\n",
    "    ).plot.barh(\n",
    "        figsize=(16,10),\n",
    "        title=\"Total not paid by dti range\",\n",
    "        stacked=True)"
   ]
  },
  {
   "cell_type": "code",
   "execution_count": 146,
   "metadata": {},
   "outputs": [
    {
     "name": "stdout",
     "output_type": "stream",
     "text": [
      "Max annual_inc 1200000.0\n",
      "Min annual_inc 3000.0\n"
     ]
    }
   ],
   "source": [
    "print(\"Max annual_inc\", dataTrain['annual_inc'].max())\n",
    "print(\"Min annual_inc\", dataTrain['annual_inc'].min())"
   ]
  },
  {
   "cell_type": "code",
   "execution_count": 122,
   "metadata": {},
   "outputs": [
    {
     "name": "stdout",
     "output_type": "stream",
     "text": [
      "Annual income range 1197000.0\n"
     ]
    }
   ],
   "source": [
    "annualIncRange = dataTrain['annual_inc'].max() - dataTrain['annual_inc'].min()\n",
    "print('Annual income range', annualIncRange)"
   ]
  },
  {
   "cell_type": "code",
   "execution_count": 125,
   "metadata": {},
   "outputs": [
    {
     "name": "stdout",
     "output_type": "stream",
     "text": [
      "Number of classes 4\n"
     ]
    }
   ],
   "source": [
    "sturgesRule = 1 + math.log(dataTrain['annual_inc'].count(), 10)\n",
    "numClass = int(sturgesRule)\n",
    "print('Number of classes of Annual income', numClass)"
   ]
  },
  {
   "cell_type": "code",
   "execution_count": 148,
   "metadata": {},
   "outputs": [
    {
     "data": {
      "text/plain": [
       "<matplotlib.axes._subplots.AxesSubplot at 0x7f54d5c545c0>"
      ]
     },
     "execution_count": 148,
     "metadata": {},
     "output_type": "execute_result"
    },
    {
     "data": {
      "image/png": "[encoded data removed]",
      "text/plain": [
       "<Figure size 1152x720 with 1 Axes>"
      ]
     },
     "metadata": {},
     "output_type": "display_data"
    }
   ],
   "source": [
    "dataTrain['annual_inc_class'] = pd.cut(dataTrain['annual_inc'], bins=numClass)\n",
    "dataTrain['annual_inc_class'].value_counts().sort_values().plot(\n",
    "    x='Annual income', y='frequency', kind='barh', title='Group of annual income', figsize=(16,10))"
   ]
  },
  {
   "cell_type": "code",
   "execution_count": 151,
   "metadata": {},
   "outputs": [
    {
     "name": "stdout",
     "output_type": "stream",
     "text": [
      "Max revol_bal 258897\n",
      "Min revol_bal 0\n"
     ]
    }
   ],
   "source": [
    "print(\"Max revol_bal\", dataTrain['revol_bal'].max())\n",
    "print(\"Min revol_bal\", dataTrain['revol_bal'].min())"
   ]
  },
  {
   "cell_type": "code",
   "execution_count": 152,
   "metadata": {},
   "outputs": [
    {
     "name": "stdout",
     "output_type": "stream",
     "text": [
      "[     0.    64724.25 129448.5  194172.75 258897.  ]\n"
     ]
    }
   ],
   "source": [
    "revolBalClass = np.linspace(0, dataTrain['revol_bal'].max(), 5)\n",
    "print(revolBalClass)"
   ]
  },
  {
   "cell_type": "code",
   "execution_count": 153,
   "metadata": {},
   "outputs": [
    {
     "data": {
      "text/plain": [
       "<matplotlib.axes._subplots.AxesSubplot at 0x7f54d5baa9e8>"
      ]
     },
     "execution_count": 153,
     "metadata": {},
     "output_type": "execute_result"
    },
    {
     "data": {
      "image/png": "[encoded data removed]",
      "text/plain": [
       "<Figure size 1152x720 with 1 Axes>"
      ]
     },
     "metadata": {},
     "output_type": "display_data"
    }
   ],
   "source": [
    "dataTrain['revol_bal_class'] = pd.cut(dataTrain['revol_bal'], bins=revolBalClass)\n",
    "dataTrain['revol_bal_class'].value_counts().sort_values().plot(\n",
    "    x='Revoling balance', y='frequency', kind='barh', title='Group of Revoling balance', figsize=(16,10))"
   ]
  },
  {
   "cell_type": "code",
   "execution_count": 180,
   "metadata": {},
   "outputs": [
    {
     "data": {
      "text/plain": [
       "annual_inc_class       revol_bal_class      \n",
       "(1803.0, 302250.0]     (0.0, 64724.25]          1196\n",
       "                       (64724.25, 129448.5]       17\n",
       "                       (129448.5, 194172.75]       4\n",
       "                       (194172.75, 258897.0]       1\n",
       "(302250.0, 601500.0]   (0.0, 64724.25]             5\n",
       "                       (64724.25, 129448.5]        1\n",
       "                       (129448.5, 194172.75]       1\n",
       "                       (194172.75, 258897.0]       1\n",
       "(601500.0, 900750.0]   (0.0, 64724.25]             1\n",
       "(900750.0, 1200000.0]  (0.0, 64724.25]             1\n",
       "                       (129448.5, 194172.75]       1\n",
       "Name: annual_inc_class, dtype: int64"
      ]
     },
     "execution_count": 180,
     "metadata": {},
     "output_type": "execute_result"
    }
   ],
   "source": [
    "dataTrain.groupby(\n",
    "    ['annual_inc_class', 'revol_bal_class']\n",
    "    )['annual_inc_class'].size()"
   ]
  },
  {
   "cell_type": "code",
   "execution_count": 5,
   "metadata": {},
   "outputs": [
    {
     "data": {
      "text/html": [
       "<div>\n",
       "<style scoped>\n",
       "    .dataframe tbody tr th:only-of-type {\n",
       "        vertical-align: middle;\n",
       "    }\n",
       "\n",
       "    .dataframe tbody tr th {\n",
       "        vertical-align: top;\n",
       "    }\n",
       "\n",
       "    .dataframe thead th {\n",
       "        text-align: right;\n",
       "    }\n",
       "</style>\n",
       "<table border=\"1\" class=\"dataframe\">\n",
       "  <thead>\n",
       "    <tr style=\"text-align: right;\">\n",
       "      <th></th>\n",
       "      <th>annual_inc</th>\n",
       "      <th>revol_bal</th>\n",
       "    </tr>\n",
       "  </thead>\n",
       "  <tbody>\n",
       "    <tr>\n",
       "      <th>count</th>\n",
       "      <td>1211.000000</td>\n",
       "      <td>1211.000000</td>\n",
       "    </tr>\n",
       "    <tr>\n",
       "      <th>mean</th>\n",
       "      <td>75639.333254</td>\n",
       "      <td>12872.312139</td>\n",
       "    </tr>\n",
       "    <tr>\n",
       "      <th>std</th>\n",
       "      <td>43444.495236</td>\n",
       "      <td>11633.402503</td>\n",
       "    </tr>\n",
       "    <tr>\n",
       "      <th>min</th>\n",
       "      <td>3000.000000</td>\n",
       "      <td>0.000000</td>\n",
       "    </tr>\n",
       "    <tr>\n",
       "      <th>25%</th>\n",
       "      <td>46294.500000</td>\n",
       "      <td>4629.000000</td>\n",
       "    </tr>\n",
       "    <tr>\n",
       "      <th>50%</th>\n",
       "      <td>65000.000000</td>\n",
       "      <td>9780.000000</td>\n",
       "    </tr>\n",
       "    <tr>\n",
       "      <th>75%</th>\n",
       "      <td>92172.500000</td>\n",
       "      <td>17183.500000</td>\n",
       "    </tr>\n",
       "    <tr>\n",
       "      <th>max</th>\n",
       "      <td>300000.000000</td>\n",
       "      <td>63723.000000</td>\n",
       "    </tr>\n",
       "  </tbody>\n",
       "</table>\n",
       "</div>"
      ],
      "text/plain": [
       "          annual_inc     revol_bal\n",
       "count    1211.000000   1211.000000\n",
       "mean    75639.333254  12872.312139\n",
       "std     43444.495236  11633.402503\n",
       "min      3000.000000      0.000000\n",
       "25%     46294.500000   4629.000000\n",
       "50%     65000.000000   9780.000000\n",
       "75%     92172.500000  17183.500000\n",
       "max    300000.000000  63723.000000"
      ]
     },
     "execution_count": 5,
     "metadata": {},
     "output_type": "execute_result"
    }
   ],
   "source": [
    "subSet = dataTrain.loc[:, ['annual_inc', 'revol_bal']]\n",
    "subSet = subSet[subSet['annual_inc'] <= 302250.0]\n",
    "subSet = subSet[subSet['revol_bal'] <= 64724.25]\n",
    "subSet.describe()"
   ]
  },
  {
   "cell_type": "code",
   "execution_count": 6,
   "metadata": {},
   "outputs": [],
   "source": [
    "subSet['annual_inc_class'] = pd.cut(subSet['annual_inc'], bins=12)"
   ]
  },
  {
   "cell_type": "code",
   "execution_count": 13,
   "metadata": {},
   "outputs": [
    {
     "data": {
      "text/plain": [
       "<matplotlib.axes._subplots.AxesSubplot at 0x7f59d1bc8d68>"
      ]
     },
     "execution_count": 13,
     "metadata": {},
     "output_type": "execute_result"
    },
    {
     "data": {
      "image/png": "[encoded data removed]",
      "text/plain": [
       "<Figure size 1152x720 with 1 Axes>"
      ]
     },
     "metadata": {},
     "output_type": "display_data"
    }
   ],
   "source": [
    "subSet['annual_inc_class'].value_counts().sort_index().plot(x='annual_inc_class', y='revol_bal',\n",
    "    kind='barh',\n",
    "    title='Annual income class and revolving balance', figsize=(16,10))"
   ]
  },
  {
   "cell_type": "code",
   "execution_count": 16,
   "metadata": {},
   "outputs": [],
   "source": [
    "purposeNotPaid = dataTrain.query(\"not_paid==1\").groupby(\n",
    "    ['purpose', 'not_paid']\n",
    "    )['purpose'].size()"
   ]
  },
  {
   "cell_type": "code",
   "execution_count": 17,
   "metadata": {},
   "outputs": [
    {
     "data": {
      "text/plain": [
       "<matplotlib.axes._subplots.AxesSubplot at 0x7f59d1d394e0>"
      ]
     },
     "execution_count": 17,
     "metadata": {},
     "output_type": "execute_result"
    },
    {
     "data": {
      "image/png": "[encoded data removed]",
      "text/plain": [
       "<Figure size 1152x720 with 1 Axes>"
      ]
     },
     "metadata": {},
     "output_type": "display_data"
    }
   ],
   "source": [
    "purposeNotPaid.plot.barh(\n",
    "        figsize=(16,10),\n",
    "        title=\"Total not paid by purpose\",\n",
    "        stacked=True)"
   ]
  },
  {
   "cell_type": "code",
   "execution_count": 18,
   "metadata": {},
   "outputs": [
    {
     "data": {
      "text/plain": [
       "purpose             not_paid\n",
       "credit_card         1           112\n",
       "debt_consolidation  1           420\n",
       "home_improvement    1            58\n",
       "major_purchase      1            22\n",
       "small_business      1            15\n",
       "Name: purpose, dtype: int64"
      ]
     },
     "execution_count": 18,
     "metadata": {},
     "output_type": "execute_result"
    }
   ],
   "source": [
    "purposeNotPaid"
   ]
  },
  {
   "cell_type": "markdown",
   "metadata": {},
   "source": [
    "## Machine Learning Modeling"
   ]
  },
  {
   "cell_type": "code",
   "execution_count": null,
   "metadata": {},
   "outputs": [],
   "source": []
  }
 ],
 "metadata": {
  "kernelspec": {
   "display_name": "Python 3",
   "language": "python",
   "name": "python3"
  }
 },
 "nbformat": 4,
 "nbformat_minor": 2
}
